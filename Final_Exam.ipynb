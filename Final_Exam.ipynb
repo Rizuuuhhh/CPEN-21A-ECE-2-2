{
  "nbformat": 4,
  "nbformat_minor": 0,
  "metadata": {
    "colab": {
      "name": "Final Exam.ipynb",
      "provenance": [],
      "authorship_tag": "ABX9TyMbq+y50lvJwY14MOp8mXQa",
      "include_colab_link": true
    },
    "kernelspec": {
      "name": "python3",
      "display_name": "Python 3"
    },
    "language_info": {
      "name": "python"
    }
  },
  "cells": [
    {
      "cell_type": "markdown",
      "metadata": {
        "id": "view-in-github",
        "colab_type": "text"
      },
      "source": [
        "<a href=\"https://colab.research.google.com/github/Rizuuuhhh/CPEN-21A-ECE-2-2/blob/main/Final_Exam.ipynb\" target=\"_parent\"><img src=\"https://colab.research.google.com/assets/colab-badge.svg\" alt=\"Open In Colab\"/></a>"
      ]
    },
    {
      "cell_type": "markdown",
      "source": [
        "#Final Exam"
      ],
      "metadata": {
        "id": "dc4qTr9DiDYD"
      }
    },
    {
      "cell_type": "markdown",
      "source": [
        "##Problem Statement 1\n",
        "Create a Python program that will produce an output of sum of 10 numbers less than 5 using FOR LOOP statement."
      ],
      "metadata": {
        "id": "BuAcEKfIf528"
      }
    },
    {
      "cell_type": "code",
      "execution_count": 5,
      "metadata": {
        "id": "BfEViH0-awZC",
        "colab": {
          "base_uri": "https://localhost:8080/"
        },
        "outputId": "a44eb62f-70c2-4bc1-8df4-421048c99832"
      },
      "outputs": [
        {
          "output_type": "stream",
          "name": "stdout",
          "text": [
            "Enter number of elements : 10\n",
            "-2\n",
            "3\n",
            "-4\n",
            "2\n",
            "1\n",
            "4\n",
            "-4\n",
            "-5\n",
            "-6\n",
            "-1\n",
            "The entered list is [-2, 3, -4, 2, 1, 4, -4, -5, -6, -1]\n",
            "Sum is -12\n"
          ]
        }
      ],
      "source": [
        "lst = []\n",
        "n = int(input(\"Enter number of elements : \"))\n",
        "\n",
        "for i in range(0, n):\n",
        "  ele = int(input())\n",
        "  if ele<5:\n",
        "     lst.append(ele)\n",
        "  else:\n",
        "     print(\"The value is greater than 5\")\n",
        "     exit(0)\n",
        " \n",
        "print(\"The entered list is\",lst)\n",
        "sum = 0\n",
        "for x in lst:\n",
        "    sum = sum + x\n",
        "\n",
        "print(\"Sum is\",sum)"
      ]
    },
    {
      "cell_type": "markdown",
      "source": [
        "##Problem Statement 2\n",
        "Create a Python program that will produce accept five numbers and determine the sum of first and last number among the five numbers entered using WHILE LOOP"
      ],
      "metadata": {
        "id": "tBNSKre7nuPy"
      }
    },
    {
      "cell_type": "code",
      "source": [
        "arr = []\n",
        "number = int(input(\"Enter number of elements :\\n\"))\n",
        "i=0;\n",
        "while(i!=number):\n",
        "  temp = int(input())\n",
        "  i=i+1\n",
        "  arr.append(temp)\n",
        "sum=arr[0]+arr[number-1]#adding numbers\n",
        "print(\"The sum of first and last number is\")\n",
        "print(sum)\n",
        " "
      ],
      "metadata": {
        "id": "ZCpueFjfoRkz",
        "outputId": "e1452485-7ebf-420f-c5d9-7ab70ff30c8f",
        "colab": {
          "base_uri": "https://localhost:8080/"
        }
      },
      "execution_count": null,
      "outputs": [
        {
          "output_type": "stream",
          "name": "stdout",
          "text": [
            "Enter number of elements :\n",
            "5\n",
            "1\n",
            "2\n",
            "3\n",
            "4\n",
            "5\n",
            "The sum of first and last number is\n",
            "6\n"
          ]
        }
      ]
    },
    {
      "cell_type": "markdown",
      "source": [
        "##Problem Statement 3\n",
        "Create a Python program to calculate student grades. It accepts a numerical grade as input and it will display the character grade as output based on the given scale: (Use Nested-IF-Else statement)"
      ],
      "metadata": {
        "id": "GwCnjWQdoi2m"
      }
    },
    {
      "cell_type": "code",
      "source": [
        "num=int(input(\"Enter your grade: \"));\n",
        "\n",
        "if(num<60):     #if num is less than 60\n",
        "    print(\"F\");\n",
        "elif(num<=69):  #if num from 60-69\n",
        "    print(\"D\");\n",
        "elif(num<=79):  #if num from 70-79\n",
        "    print(\"C\");\n",
        "elif(num<=89):  #if num from 80-89\n",
        "    print(\"B\");\n",
        "else:           #if num 90 and above\n",
        "    print(\"A\");"
      ],
      "metadata": {
        "colab": {
          "base_uri": "https://localhost:8080/"
        },
        "id": "3m-_gQLEooaE",
        "outputId": "ccdd24ba-8121-4f24-ee66-938f64377aae"
      },
      "execution_count": null,
      "outputs": [
        {
          "output_type": "stream",
          "name": "stdout",
          "text": [
            "Enter your grade: 83\n",
            "B\n"
          ]
        }
      ]
    }
  ]
}