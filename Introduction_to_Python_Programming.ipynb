{
  "nbformat": 4,
  "nbformat_minor": 0,
  "metadata": {
    "colab": {
      "name": "Introduction_to_Python_Programming.ipynb",
      "provenance": [],
      "authorship_tag": "ABX9TyMQwmD5ADDMI2ECHqMVY4Pe",
      "include_colab_link": true
    },
    "kernelspec": {
      "name": "python3",
      "display_name": "Python 3"
    },
    "language_info": {
      "name": "python"
    }
  },
  "cells": [
    {
      "cell_type": "markdown",
      "metadata": {
        "id": "view-in-github",
        "colab_type": "text"
      },
      "source": [
        "<a href=\"https://colab.research.google.com/github/Rizuuuhhh/CPEN-21A-ECE-2-2/blob/main/Introduction_to_Python_Programming.ipynb\" target=\"_parent\"><img src=\"https://colab.research.google.com/assets/colab-badge.svg\" alt=\"Open In Colab\"/></a>"
      ]
    },
    {
      "cell_type": "code",
      "metadata": {
        "id": "ruomwGTDv-dr"
      },
      "source": [
        ""
      ],
      "execution_count": null,
      "outputs": []
    },
    {
      "cell_type": "markdown",
      "metadata": {
        "id": "_FRNFNGdwQqY"
      },
      "source": [
        "##Review of Phython Programming\n",
        "\n"
      ]
    },
    {
      "cell_type": "code",
      "metadata": {
        "colab": {
          "base_uri": "https://localhost:8080/"
        },
        "id": "tEBOWvylw2zm",
        "outputId": "ba0fc261-a28b-4f93-deb3-38817b4858cd"
      },
      "source": [
        "print (\"Welcome to Python Programming\")\n"
      ],
      "execution_count": 2,
      "outputs": [
        {
          "output_type": "stream",
          "name": "stdout",
          "text": [
            "Welcome to Python Programming\n"
          ]
        }
      ]
    },
    {
      "cell_type": "code",
      "metadata": {
        "colab": {
          "base_uri": "https://localhost:8080/"
        },
        "id": "aAE1WO0xyoO0",
        "outputId": "cd6eb227-6711-471f-89f6-1ad9bbbc2884"
      },
      "source": [
        "print (\"Sally\")"
      ],
      "execution_count": 4,
      "outputs": [
        {
          "output_type": "stream",
          "name": "stdout",
          "text": [
            "Sally\n"
          ]
        }
      ]
    },
    {
      "cell_type": "code",
      "metadata": {
        "colab": {
          "base_uri": "https://localhost:8080/"
        },
        "id": "nxHM1bnQxk0u",
        "outputId": "01470bbf-150d-4272-fbd0-bdbeb54ac940"
      },
      "source": [
        "x,y = \"Riza\",\"Amores\"\n",
        "print (x)\n",
        "print (y)"
      ],
      "execution_count": 3,
      "outputs": [
        {
          "output_type": "stream",
          "name": "stdout",
          "text": [
            "Riza\n",
            "Amores\n"
          ]
        }
      ]
    },
    {
      "cell_type": "code",
      "metadata": {
        "colab": {
          "base_uri": "https://localhost:8080/"
        },
        "id": "V4x58032x-Lv",
        "outputId": "9f1fd96f-8329-4f11-a8b4-4336b67f74bb"
      },
      "source": [
        "x = 'enjoying'\n",
        "print (\"Python Programming is \" + x)"
      ],
      "execution_count": 5,
      "outputs": [
        {
          "output_type": "stream",
          "name": "stdout",
          "text": [
            "Python Programming is enjoying\n"
          ]
        }
      ]
    },
    {
      "cell_type": "code",
      "metadata": {
        "colab": {
          "base_uri": "https://localhost:8080/"
        },
        "id": "co3qIaUay6Qb",
        "outputId": "9876934b-e563-4fad-b0ac-79166aeaad4a"
      },
      "source": [
        "a,b,c,=0,-1,6\n",
        "c%=3\n",
        "print (c)"
      ],
      "execution_count": 9,
      "outputs": [
        {
          "output_type": "stream",
          "name": "stdout",
          "text": [
            "0\n"
          ]
        }
      ]
    },
    {
      "cell_type": "code",
      "metadata": {
        "colab": {
          "base_uri": "https://localhost:8080/"
        },
        "id": "F8D1Su6i0Ck6",
        "outputId": "a847026a-0cac-41a2-c5be-491cc499c42b"
      },
      "source": [
        "x= 3\n",
        "y=5\n",
        "sum= x+y\n",
        "print (sum)"
      ],
      "execution_count": 10,
      "outputs": [
        {
          "output_type": "stream",
          "name": "stdout",
          "text": [
            "8\n"
          ]
        }
      ]
    },
    {
      "cell_type": "code",
      "metadata": {
        "colab": {
          "base_uri": "https://localhost:8080/"
        },
        "id": "OFxBopbz0TeJ",
        "outputId": "6a8e31db-6035-48ea-ace9-f53772f73da7"
      },
      "source": [
        "a= 4\n",
        "A= 'Riza'\n",
        "#A will not overwrite a,\n",
        "print (a)"
      ],
      "execution_count": 11,
      "outputs": [
        {
          "output_type": "stream",
          "name": "stdout",
          "text": [
            "4\n"
          ]
        }
      ]
    },
    {
      "cell_type": "code",
      "metadata": {
        "colab": {
          "base_uri": "https://localhost:8080/"
        },
        "id": "AtwcUCnr0omP",
        "outputId": "a54258c7-d943-4c2f-aa1d-fbe53758f80a"
      },
      "source": [
        "x= 5\n",
        "x>6 and x<10"
      ],
      "execution_count": 13,
      "outputs": [
        {
          "output_type": "execute_result",
          "data": {
            "text/plain": [
              "False"
            ]
          },
          "metadata": {},
          "execution_count": 13
        }
      ]
    },
    {
      "cell_type": "code",
      "metadata": {
        "colab": {
          "base_uri": "https://localhost:8080/"
        },
        "id": "5AX0mXfn07hS",
        "outputId": "eaf5ce40-db24-4fe8-c4f8-9c4197757042"
      },
      "source": [
        "y=5\n",
        "y>6 or y>10"
      ],
      "execution_count": 14,
      "outputs": [
        {
          "output_type": "execute_result",
          "data": {
            "text/plain": [
              "False"
            ]
          },
          "metadata": {},
          "execution_count": 14
        }
      ]
    },
    {
      "cell_type": "code",
      "metadata": {
        "colab": {
          "base_uri": "https://localhost:8080/"
        },
        "id": "2FgHhtB91KxB",
        "outputId": "53442712-79dd-4ad0-b325-e31e2f63b690"
      },
      "source": [
        "x=5\n",
        "x<6 and x<10"
      ],
      "execution_count": 15,
      "outputs": [
        {
          "output_type": "execute_result",
          "data": {
            "text/plain": [
              "True"
            ]
          },
          "metadata": {},
          "execution_count": 15
        }
      ]
    },
    {
      "cell_type": "code",
      "metadata": {
        "id": "O4VdN3h81Wzo"
      },
      "source": [
        ""
      ],
      "execution_count": null,
      "outputs": []
    },
    {
      "cell_type": "code",
      "metadata": {
        "id": "zxFiHYti1Wx9"
      },
      "source": [
        ""
      ],
      "execution_count": null,
      "outputs": []
    }
  ]
}