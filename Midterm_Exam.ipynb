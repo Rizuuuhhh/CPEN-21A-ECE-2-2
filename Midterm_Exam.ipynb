{
  "nbformat": 4,
  "nbformat_minor": 0,
  "metadata": {
    "colab": {
      "name": "Midterm Exam.ipynb",
      "provenance": [],
      "collapsed_sections": [],
      "authorship_tag": "ABX9TyMaGFtgCqSzymPtXfeQC13z",
      "include_colab_link": true
    },
    "kernelspec": {
      "name": "python3",
      "display_name": "Python 3"
    },
    "language_info": {
      "name": "python"
    }
  },
  "cells": [
    {
      "cell_type": "markdown",
      "metadata": {
        "id": "view-in-github",
        "colab_type": "text"
      },
      "source": [
        "<a href=\"https://colab.research.google.com/github/Rizuuuhhh/CPEN-21A-ECE-2-2/blob/main/Midterm_Exam.ipynb\" target=\"_parent\"><img src=\"https://colab.research.google.com/assets/colab-badge.svg\" alt=\"Open In Colab\"/></a>"
      ]
    },
    {
      "cell_type": "markdown",
      "metadata": {
        "id": "0pjKj7j8rP3X"
      },
      "source": [
        "#Midterm Exam"
      ]
    },
    {
      "cell_type": "markdown",
      "metadata": {
        "id": "U7_-7UVWrx8N"
      },
      "source": [
        "##Problem Statement 1."
      ]
    },
    {
      "cell_type": "code",
      "metadata": {
        "colab": {
          "base_uri": "https://localhost:8080/"
        },
        "id": "NxsQ3T14jqJ4",
        "outputId": "bcab2d37-73a1-4131-ecf3-c919518a1959"
      },
      "source": [
        "a= 'a. Full Name: '\n",
        "x= 'Riza C. Amores'\n",
        "b= 'b. Student Nmber: '\n",
        "y= '202011001'\n",
        "c= 'c. Age: '\n",
        "z= '19 years old'\n",
        "d= 'd. Birthday: '\n",
        "w= 'March 24, 2002'\n",
        "e= 'e. Address: '\n",
        "v= 'Block 19 Lot 5 Townsville Subd., Brgy. Sabang, Dasmariñas City, Cavite'\n",
        "f= 'f. Course: '\n",
        "u= 'Bachelor of Science in Electronics & Communications Engineering'\n",
        "g= 'g. Last Sem GWA: '\n",
        "t= '1.45'\n",
        "print (a+x)\n",
        "print (b+y)\n",
        "print (c+z)\n",
        "print (d+w)\n",
        "print (e+v)\n",
        "print (f+u)\n",
        "print (g+t)"
      ],
      "execution_count": 43,
      "outputs": [
        {
          "output_type": "stream",
          "name": "stdout",
          "text": [
            "a. Full Name: Riza C. Amores\n",
            "b. Student Nmber: 202011001\n",
            "c. Age: 19 years old\n",
            "d. Birthday: March 24, 2002\n",
            "e. Address: Block 19 Lot 5 Townsville Subd., Brgy. Sabang, Dasmariñas City, Cavite\n",
            "f. Course: Bachelor of Science in Electronics & Communications Engineering\n",
            "g. Last Sem GWA: 1.45\n"
          ]
        }
      ]
    },
    {
      "cell_type": "markdown",
      "metadata": {
        "id": "Tel06p1LuWCh"
      },
      "source": [
        "##Problem Statement 2."
      ]
    },
    {
      "cell_type": "code",
      "metadata": {
        "colab": {
          "base_uri": "https://localhost:8080/"
        },
        "id": "lUJUaXruua0j",
        "outputId": "2cf9f828-29ca-4381-f14b-e4fc493f5a3c"
      },
      "source": [
        "n = 4\n",
        "answ = \"Y\"\n",
        "\n",
        "a = (2<n) and (n<6)\n",
        "b = (2<n) or (n==6)\n",
        "c = not(2<n) or (n==6)\n",
        "d = not(n<6)\n",
        "e = (answ==\"Y\") or (answ==\"y\")\n",
        "f = (answ==\"Y\") and (answ==\"y\")\n",
        "g = not(answ==\"y\")\n",
        "h = ((2<n)and(n==5+1)) or (answ==\"No\")\n",
        "i = ((n==2)and(n==7)) or (answ==\"Y\")\n",
        "j = (n==2) and ((n==7) or(answ==\"Y\"))\n",
        "\n",
        "print(a)\n",
        "print(b)\n",
        "print(c)\n",
        "print(d)\n",
        "print(e)\n",
        "print(f)\n",
        "print(g)\n",
        "print(h)\n",
        "print(i)\n",
        "print(j)\n"
      ],
      "execution_count": 42,
      "outputs": [
        {
          "output_type": "stream",
          "name": "stdout",
          "text": [
            "True\n",
            "True\n",
            "False\n",
            "False\n",
            "True\n",
            "False\n",
            "True\n",
            "False\n",
            "True\n",
            "False\n"
          ]
        }
      ]
    },
    {
      "cell_type": "markdown",
      "metadata": {
        "id": "akurR4sk245x"
      },
      "source": [
        "##Problem Statement 3."
      ]
    },
    {
      "cell_type": "code",
      "metadata": {
        "colab": {
          "base_uri": "https://localhost:8080/"
        },
        "id": "M-kqdHtwvvEd",
        "outputId": "1a4fe212-8a1f-4f3d-83ce-499b51ab06f6"
      },
      "source": [
        "print (\"a.\")\n",
        "x = 2\n",
        "y = -3\n",
        "\n",
        "print(x/y)\n",
        "\n",
        "print (\"b.\")\n",
        "x = 2\n",
        "y = -3\n",
        "w= 7\n",
        "\n",
        "print(w/x/y)\n",
        "\n",
        "print (\"c.\")\n",
        "x = 2\n",
        "y = -3\n",
        "z= -10\n",
        "\n",
        "print(z/y%x)\n",
        "\n",
        "print (\"d.\")\n",
        "x = 2\n",
        "y = -3\n",
        "w= 7\n",
        "\n",
        "print(x%-y*w)\n",
        "\n",
        "print (\"e.\")\n",
        "x = 2\n",
        "y = -3\n",
        "\n",
        "print(x%y)\n",
        "\n",
        "print (\"f.\")\n",
        "x = 2\n",
        "y = -3\n",
        "z= -10\n",
        "w= 7\n",
        "\n",
        "print(z%w-y/x*5+5)\n",
        "\n",
        "\n",
        "print (\"g.\")\n",
        "x = 2\n",
        "y = -3\n",
        "\n",
        "\n",
        "print(9-x%(2+y))\n",
        "\n",
        "print (\"h.\")\n",
        "z = -10\n",
        "w = 7\n",
        "\n",
        "print(z//w)\n",
        "\n",
        "print (\"i.\")\n",
        "y = -3 \n",
        "\n",
        "print((2+y)**2)\n",
        "\n",
        "\n",
        "print (\"j.\")\n",
        "w = 7\n",
        "x = 2\n",
        "\n",
        "print(w/x*2)\n"
      ],
      "execution_count": 30,
      "outputs": [
        {
          "output_type": "stream",
          "name": "stdout",
          "text": [
            "a.\n",
            "-0.6666666666666666\n",
            "b.\n",
            "-1.1666666666666667\n",
            "c.\n",
            "1.3333333333333335\n",
            "d.\n",
            "14\n",
            "e.\n",
            "-1\n",
            "f.\n",
            "16.5\n",
            "g.\n",
            "9\n",
            "h.\n",
            "-2\n",
            "i.\n",
            "1\n",
            "j.\n",
            "7.0\n"
          ]
        }
      ]
    }
  ]
}