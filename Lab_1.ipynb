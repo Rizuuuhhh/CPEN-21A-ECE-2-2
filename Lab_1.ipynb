{
  "nbformat": 4,
  "nbformat_minor": 0,
  "metadata": {
    "colab": {
      "name": "Lab 1.ipynb",
      "provenance": [],
      "authorship_tag": "ABX9TyP65idx9Bh4lnVaZ37Ax8xO",
      "include_colab_link": true
    },
    "kernelspec": {
      "name": "python3",
      "display_name": "Python 3"
    },
    "language_info": {
      "name": "python"
    }
  },
  "cells": [
    {
      "cell_type": "markdown",
      "metadata": {
        "id": "view-in-github",
        "colab_type": "text"
      },
      "source": [
        "<a href=\"https://colab.research.google.com/github/Rizuuuhhh/CPEN-21A-ECE-2-2/blob/main/Lab_1.ipynb\" target=\"_parent\"><img src=\"https://colab.research.google.com/assets/colab-badge.svg\" alt=\"Open In Colab\"/></a>"
      ]
    },
    {
      "cell_type": "markdown",
      "metadata": {
        "id": "Fjt2rUNTdKtG"
      },
      "source": [
        "#Laboratory 1"
      ]
    },
    {
      "cell_type": "code",
      "metadata": {
        "colab": {
          "base_uri": "https://localhost:8080/"
        },
        "id": "e_E4CCJNhU0F",
        "outputId": "68f0c024-38da-4650-c611-237521caca3e"
      },
      "source": [
        "print (\"Welcome to Python Programming\")\n"
      ],
      "execution_count": 27,
      "outputs": [
        {
          "output_type": "stream",
          "name": "stdout",
          "text": [
            "Welcome to Python Programming\n"
          ]
        }
      ]
    },
    {
      "cell_type": "code",
      "metadata": {
        "colab": {
          "base_uri": "https://localhost:8080/"
        },
        "id": "NxsQ3T14jqJ4",
        "outputId": "1fe10f9c-6bfe-4b50-fde0-5ace29cfef42"
      },
      "source": [
        "a= 'Name:'\n",
        "x= 'Riza C. Amores'\n",
        "b= 'Address:'\n",
        "y= 'Block 19 Lot 5 Townsville Subd., Brgy. Sabang, Dasmariñas City, Cavite'\n",
        "c= 'Age:'\n",
        "z= '19 years old'\n",
        "print (a+x)\n",
        "print (b+y)\n",
        "print (c+z)"
      ],
      "execution_count": 36,
      "outputs": [
        {
          "output_type": "stream",
          "name": "stdout",
          "text": [
            "Name:Riza C. Amores\n",
            "Address:Block 19 Lot 5 Townsville Subd., Brgy. Sabang, Dasmariñas City, Cavite\n",
            "Age:19 years old\n"
          ]
        }
      ]
    }
  ]
}