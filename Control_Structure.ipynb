{
  "nbformat": 4,
  "nbformat_minor": 0,
  "metadata": {
    "colab": {
      "name": "Control Structure.ipynb",
      "provenance": [],
      "authorship_tag": "ABX9TyPZ7iYNgOEF54pz4TCjSsTt",
      "include_colab_link": true
    },
    "kernelspec": {
      "name": "python3",
      "display_name": "Python 3"
    },
    "language_info": {
      "name": "python"
    }
  },
  "cells": [
    {
      "cell_type": "markdown",
      "metadata": {
        "id": "view-in-github",
        "colab_type": "text"
      },
      "source": [
        "<a href=\"https://colab.research.google.com/github/Rizuuuhhh/CPEN-21A-ECE-2-2/blob/main/Control_Structure.ipynb\" target=\"_parent\"><img src=\"https://colab.research.google.com/assets/colab-badge.svg\" alt=\"Open In Colab\"/></a>"
      ]
    },
    {
      "cell_type": "markdown",
      "metadata": {
        "id": "b0QTU95DxXu7"
      },
      "source": [
        "##If Statement"
      ]
    },
    {
      "cell_type": "code",
      "metadata": {
        "colab": {
          "base_uri": "https://localhost:8080/"
        },
        "id": "EjdvTy5Vxhgi",
        "outputId": "397dfca4-9388-4480-9b91-2054d966888c"
      },
      "source": [
        "a = 12\n",
        "b = 100\n",
        "if b>a:\n",
        "  print(\"b is greater than a\")\n",
        "  "
      ],
      "execution_count": 1,
      "outputs": [
        {
          "output_type": "stream",
          "name": "stdout",
          "text": [
            "b is greater than a\n"
          ]
        }
      ]
    },
    {
      "cell_type": "markdown",
      "metadata": {
        "id": "wY5wFXEQyYDp"
      },
      "source": [
        "##Elif Statement"
      ]
    },
    {
      "cell_type": "code",
      "metadata": {
        "colab": {
          "base_uri": "https://localhost:8080/"
        },
        "id": "XX0X410pybu4",
        "outputId": "2b2e7062-503e-42f1-a452-b9f0cf691866"
      },
      "source": [
        "a = 12\n",
        "b = 100\n",
        "if b<a:\n",
        "  print(\"b is less than a\")\n",
        "elif b>a:\n",
        "    print(\"b is greater than a\")"
      ],
      "execution_count": 3,
      "outputs": [
        {
          "output_type": "stream",
          "name": "stdout",
          "text": [
            "b is greater than a\n"
          ]
        }
      ]
    },
    {
      "cell_type": "markdown",
      "metadata": {
        "id": "bgLOvgDazA8R"
      },
      "source": [
        "##Else Statement"
      ]
    },
    {
      "cell_type": "code",
      "metadata": {
        "colab": {
          "base_uri": "https://localhost:8080/"
        },
        "id": "EgU6L8_ezCiA",
        "outputId": "c0df818e-dffe-4f47-d564-644cffa56bbf"
      },
      "source": [
        "a = 12\n",
        "b = 12\n",
        "if b<a:\n",
        "  print(\"b is less than a\")\n",
        "elif b>a:\n",
        "    print(\"b is greater than a\")\n",
        "else:\n",
        "  print(\"a is equal to b\")"
      ],
      "execution_count": 4,
      "outputs": [
        {
          "output_type": "stream",
          "name": "stdout",
          "text": [
            "a is equal to b\n"
          ]
        }
      ]
    },
    {
      "cell_type": "markdown",
      "metadata": {
        "id": "UuN5t_Q3zif6"
      },
      "source": [
        "##Short Hand If...Else"
      ]
    },
    {
      "cell_type": "code",
      "metadata": {
        "colab": {
          "base_uri": "https://localhost:8080/"
        },
        "id": "G6oTjO6Bz0k-",
        "outputId": "c10bfa56-afd2-4f87-a9c9-5a920e07c3f5"
      },
      "source": [
        "a = 2\n",
        "b = 330\n",
        "print(\"A\") if a > b else print(\"B\")"
      ],
      "execution_count": 6,
      "outputs": [
        {
          "output_type": "stream",
          "name": "stdout",
          "text": [
            "B\n"
          ]
        }
      ]
    },
    {
      "cell_type": "code",
      "metadata": {
        "colab": {
          "base_uri": "https://localhost:8080/"
        },
        "id": "w3b-7d_l0df_",
        "outputId": "20161f6f-526d-4b98-9538-084e3e45318c"
      },
      "source": [
        "a = 420\n",
        "b = 330\n",
        "print(\"A\") if a > b else print(\"B\")"
      ],
      "execution_count": 7,
      "outputs": [
        {
          "output_type": "stream",
          "name": "stdout",
          "text": [
            "A\n"
          ]
        }
      ]
    },
    {
      "cell_type": "markdown",
      "metadata": {
        "id": "6GtvnZna1Ln8"
      },
      "source": [
        "##And Condition"
      ]
    },
    {
      "cell_type": "code",
      "metadata": {
        "colab": {
          "base_uri": "https://localhost:8080/"
        },
        "id": "SaqyVzTp1NhU",
        "outputId": "af6c0101-49be-46e4-dff5-874f5b7a3f16"
      },
      "source": [
        "a = 200\n",
        "b = 33\n",
        "c = 500\n",
        "\n",
        "if a>b and a<c:\n",
        "  print(\"The conditions need to be True\")"
      ],
      "execution_count": 9,
      "outputs": [
        {
          "output_type": "stream",
          "name": "stdout",
          "text": [
            "The conditions need to be True\n"
          ]
        }
      ]
    },
    {
      "cell_type": "markdown",
      "metadata": {
        "id": "kJjr5qyR2Dxr"
      },
      "source": [
        "##Or Condition"
      ]
    },
    {
      "cell_type": "code",
      "metadata": {
        "colab": {
          "base_uri": "https://localhost:8080/"
        },
        "id": "enzQjUqT2Ikr",
        "outputId": "9e54cd13-8d9a-4b04-92e3-b09f21309a8d"
      },
      "source": [
        "a = 200\n",
        "b = 33\n",
        "c = 500\n",
        "\n",
        "if a>b or a<c:\n",
        "  print(\"The conditions need to be True\")"
      ],
      "execution_count": 10,
      "outputs": [
        {
          "output_type": "stream",
          "name": "stdout",
          "text": [
            "The conditions need to be True\n"
          ]
        }
      ]
    },
    {
      "cell_type": "code",
      "metadata": {
        "colab": {
          "base_uri": "https://localhost:8080/"
        },
        "id": "OqJDo8v32eOR",
        "outputId": "4e8d0d9a-2b64-42f5-ff02-52f7fe8637a5"
      },
      "source": [
        "a = 200\n",
        "b = 33\n",
        "c = 500\n",
        "\n",
        "if a>b or a<b:\n",
        "  print(\"One of the conditions is True\")"
      ],
      "execution_count": 12,
      "outputs": [
        {
          "output_type": "stream",
          "name": "stdout",
          "text": [
            "One of the conditions is True\n"
          ]
        }
      ]
    },
    {
      "cell_type": "markdown",
      "metadata": {
        "id": "Hy0xzlA22zRx"
      },
      "source": [
        "##Nested If"
      ]
    },
    {
      "cell_type": "code",
      "metadata": {
        "colab": {
          "base_uri": "https://localhost:8080/"
        },
        "id": "j0uTFgBh2095",
        "outputId": "ac72fdc9-8afe-4753-c136-2a4ef5d56ce2"
      },
      "source": [
        "a = 41\n",
        "\n",
        "if a > 10:\n",
        "  print(\"Above 10\")\n",
        "if a > 20:\n",
        "  print(\"Above 20\")\n",
        "else:\n",
        "  print(\"Not above 20\")"
      ],
      "execution_count": 16,
      "outputs": [
        {
          "output_type": "stream",
          "name": "stdout",
          "text": [
            "Above 10\n",
            "Above 20\n"
          ]
        }
      ]
    },
    {
      "cell_type": "markdown",
      "metadata": {
        "id": "XVfaQhrA4Nfx"
      },
      "source": [
        "##Nested If...Else"
      ]
    },
    {
      "cell_type": "code",
      "metadata": {
        "colab": {
          "base_uri": "https://localhost:8080/"
        },
        "id": "MIIf5I0J4RD9",
        "outputId": "6b2f281c-6c57-483a-93ee-17957d253db7"
      },
      "source": [
        "a = 41\n",
        "\n",
        "if a > 10:\n",
        "  print(\"Above 10\")\n",
        "if a > 20:\n",
        "  print(\"Above 20\")\n",
        "else:\n",
        "  print(\"Not above 20\")\n"
      ],
      "execution_count": 20,
      "outputs": [
        {
          "output_type": "stream",
          "name": "stdout",
          "text": [
            "Above 10\n",
            "Above 20\n"
          ]
        }
      ]
    },
    {
      "cell_type": "markdown",
      "metadata": {
        "id": "NYHzV7UW5JnF"
      },
      "source": [
        "##Example 1"
      ]
    },
    {
      "cell_type": "markdown",
      "metadata": {
        "id": "_bOFTJZD5ddK"
      },
      "source": [
        "Write a program that determines if the input age is qualified to vote or not. The qualifying age is 18 years old and above."
      ]
    },
    {
      "cell_type": "code",
      "metadata": {
        "colab": {
          "base_uri": "https://localhost:8080/"
        },
        "id": "BWobt_SO5pJj",
        "outputId": "6446dfc9-9a01-4a35-ff10-551744c58f6b"
      },
      "source": [
        "age = int(input(\"Enter age : \"))\n",
        "\n",
        "if age >= 18:\n",
        "  print(\"Eligible for Voting!\")\n",
        "else:\n",
        "  print(\"Not Eligible for Voting!\")"
      ],
      "execution_count": 23,
      "outputs": [
        {
          "output_type": "stream",
          "name": "stdout",
          "text": [
            "Enter age : 17\n",
            "Not Eligible for Voting!\n"
          ]
        }
      ]
    },
    {
      "cell_type": "code",
      "metadata": {
        "colab": {
          "base_uri": "https://localhost:8080/"
        },
        "id": "KK3xwexb6nDR",
        "outputId": "49b97e8d-a445-4cef-c1db-ff316be4b3c5"
      },
      "source": [
        "#The qualifying age to vote\n",
        "\n",
        "age = 18\n",
        "\n",
        "if age >=18:\n",
        "  print(\"You're qualified to vote\")\n",
        "else:\n",
        "  print(\"You're not qualified to vote\")"
      ],
      "execution_count": 24,
      "outputs": [
        {
          "output_type": "stream",
          "name": "stdout",
          "text": [
            "You're qualified to vote\n"
          ]
        }
      ]
    },
    {
      "cell_type": "code",
      "metadata": {
        "colab": {
          "base_uri": "https://localhost:8080/"
        },
        "id": "-0cWGVW57IVR",
        "outputId": "e04b4d5b-4b6a-49e7-e9c8-5a6728dd8be2"
      },
      "source": [
        "#The qualifying age to vote\n",
        "\n",
        "age = 17\n",
        "\n",
        "if age >=18:\n",
        "  print(\"You're qualified to vote\")\n",
        "else:\n",
        "  print(\"You're not qualified to vote\")"
      ],
      "execution_count": 25,
      "outputs": [
        {
          "output_type": "stream",
          "name": "stdout",
          "text": [
            "You're not qualified to vote\n"
          ]
        }
      ]
    },
    {
      "cell_type": "markdown",
      "metadata": {
        "id": "mB1BI-I07w4B"
      },
      "source": [
        "##Example 2"
      ]
    },
    {
      "cell_type": "markdown",
      "metadata": {
        "id": "v3lLB8rc7zLn"
      },
      "source": [
        "Write a program that determines if the input number is positive or negative. Consider 0 as positive (considering that it contains no negative sign)."
      ]
    },
    {
      "cell_type": "code",
      "metadata": {
        "colab": {
          "base_uri": "https://localhost:8080/"
        },
        "id": "QVDLcDIM74LQ",
        "outputId": "049a0498-7300-4275-f601-b2bb3384934d"
      },
      "source": [
        "num = float(input(\"Enter a number: \"))\n",
        "if num > 0:\n",
        "   print(\"Positive number\")\n",
        "elif num == 0:\n",
        "   print(\"Zero\")\n",
        "else:\n",
        "   print(\"Negative number\")"
      ],
      "execution_count": 36,
      "outputs": [
        {
          "output_type": "stream",
          "name": "stdout",
          "text": [
            "Enter a number: 0\n",
            "Zero\n"
          ]
        }
      ]
    },
    {
      "cell_type": "code",
      "metadata": {
        "colab": {
          "base_uri": "https://localhost:8080/"
        },
        "id": "QjXGv5U48qUd",
        "outputId": "165e6972-2e7c-4b0b-ec39-f70f1bd53e74"
      },
      "source": [
        "number = int(input(\"Enter a number:\"))\n",
        "if number>0:\n",
        "  print(\"You entered a positive number\")\n",
        "elif number ==0:\n",
        "  print(\"You entered zero 0\")\n",
        "else:\n",
        "  print(\"You entered a negative number\")"
      ],
      "execution_count": 37,
      "outputs": [
        {
          "output_type": "stream",
          "name": "stdout",
          "text": [
            "Enter a number:2\n",
            "You entered a positive number\n"
          ]
        }
      ]
    },
    {
      "cell_type": "code",
      "metadata": {
        "colab": {
          "base_uri": "https://localhost:8080/"
        },
        "id": "0rvoJII89BFW",
        "outputId": "8138a5ad-d7c9-4a97-8e6f-433a99dc44e1"
      },
      "source": [
        "num = float(input(\"Enter a number: \"))\n",
        "if num >= 0:\n",
        "   if num == 0:\n",
        "       print(\"Zero\")\n",
        "   else:\n",
        "       print(\"Positive number\")\n",
        "else:\n",
        "   print(\"Negative number\")"
      ],
      "execution_count": 38,
      "outputs": [
        {
          "output_type": "stream",
          "name": "stdout",
          "text": [
            "Enter a number: -4\n",
            "Negative number\n"
          ]
        }
      ]
    }
  ]
}